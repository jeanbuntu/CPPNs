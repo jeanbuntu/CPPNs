{
  "nbformat": 4,
  "nbformat_minor": 0,
  "metadata": {
    "colab": {
      "name": "CPPN_Jeano_Mohit.ipynb",
      "provenance": [],
      "collapsed_sections": []
    },
    "kernelspec": {
      "name": "python3",
      "display_name": "Python 3"
    },
    "language_info": {
      "name": "python"
    }
  },
  "cells": [
    {
      "cell_type": "markdown",
      "source": [
        "## Implementation of a CPPN in Tensorflow\n",
        "The code is broken down in the following format. Each of the sub titles are described in detail above their respective cells. \n",
        "\n",
        "*   CPPN Initialization\n",
        "*   Grid generation\n",
        "*   Building the CPPN\n",
        "*   Defining a fully connected network\n",
        "*   Defining the activation functions\n",
        "*   Running the CPPN\n",
        "*   A sample CPPN call function"
      ],
      "metadata": {
        "id": "jLuvOAnNQMH2"
      }
    },
    {
      "cell_type": "code",
      "execution_count": null,
      "metadata": {
        "id": "ZA34Bmd_9fBi"
      },
      "outputs": [],
      "source": [
        "import tensorflow as tf\n",
        "import numpy as np\n",
        "import matplotlib.pyplot as plt\n",
        "from PIL import Image"
      ]
    },
    {
      "cell_type": "markdown",
      "source": [
        "## CPPN Initialization\n",
        "This initialization function takes in the user provided parameters for an image of resolution **x_res** by **y_res**. The sub parameters involved work with deciding the following factors:\n",
        "* Number of neurons in the neural net.\n",
        "* Grayscale/RGB\n",
        "* Random generator seed\n",
        "* X, Y coordinate tensor dummies.\n",
        "* Radius tensor."
      ],
      "metadata": {
        "id": "ttf73el9qRvH"
      }
    },
    {
      "cell_type": "code",
      "source": [
        "def CPPN_init(size, num_neurons, height, pos_x, pos_y, mag, RGB, seed, actfun = 1):\n",
        "\n",
        "    global batch, net, hsize, xpos, ypos, scale, ch, img, hidden, x, y, r, num_points, random_seed, act_func\n",
        "    batch = size\n",
        "    net = num_neurons\n",
        "    hsize = height\n",
        "    xpos = pos_x\n",
        "    ypos = pos_y\n",
        "    scale = mag\n",
        "    random_seed = seed\n",
        "    act_func = actfun\n",
        "    \n",
        "    if RGB == True:\n",
        "        ch = 3\n",
        "    else:\n",
        "        ch = 1\n",
        "\n",
        "    num_points = pos_x * pos_y\n",
        "\n",
        "    img = tf.random.normal(shape=(size, pos_x, pos_y, ch))\n",
        "    hidden = tf.random.normal(shape=(size, height))\n",
        "    x = tf.random.normal(shape=(size, pos_x * pos_y, 1))\n",
        "    y = tf.random.normal(shape=(size, pos_x * pos_y, 1))\n",
        "    r = tf.random.normal(shape=(size, pos_x * pos_y, 1))\n"
      ],
      "metadata": {
        "id": "Ay17-S7b9lf8"
      },
      "execution_count": null,
      "outputs": []
    },
    {
      "cell_type": "markdown",
      "source": [
        "## Grid generation\n",
        "This section deals with generating a base set of tensors of the X,Y coordinates with respect to the scale assigned by the user. This is one of the prime features of the CPPN as it allows zooming into the pattern as desired. This also implements the radius math into the radius tensor. \n",
        "\n",
        "> **$r = \\sqrt{x^{2}+y^{2}}$**"
      ],
      "metadata": {
        "id": "3TMFhevTsMfb"
      }
    },
    {
      "cell_type": "code",
      "source": [
        "def create_grid(pos_x, pos_y, mag):\n",
        "    num_points = pos_x * pos_y\n",
        "\n",
        "    x_space = tf.linspace(-1 * mag, mag, pos_x)\n",
        "    y_space = tf.linspace(-1 * mag, mag, pos_y)\n",
        "    x_mat = tf.matmul(tf.ones([pos_y, 1]), tf.reshape(x_space, [1, pos_x]))\n",
        "    y_mat = tf.matmul(tf.reshape(y_space, [pos_y, 1]), tf.ones([1, pos_x]))\n",
        "    r_mat = tf.math.sqrt(x_mat * x_mat + y_mat * y_mat)\n",
        "\n",
        "    x_mat1 = tf.reshape(x_mat, [-1])\n",
        "    x_mat = tf.reshape(x_mat1, [batch, num_points, 1])\n",
        "\n",
        "    y_mat1 = tf.reshape(y_mat, [-1])\n",
        "    y_mat = tf.reshape(y_mat1, [batch, num_points, 1])\n",
        "\n",
        "    r_mat1 = tf.reshape(r_mat, [-1])\n",
        "    r_mat = tf.reshape(r_mat1, [batch, num_points, 1])\n",
        "    return x_mat, y_mat, r_mat"
      ],
      "metadata": {
        "id": "5EM4KT7KChmg"
      },
      "execution_count": null,
      "outputs": []
    },
    {
      "cell_type": "markdown",
      "source": [
        "## Building the defined CPPN\n",
        "This method is solely to generate the neural network layers and its activation functions. This implementation only provides with fully connected nets, but provides with an array of activation functions which can be called as required by the user. The fully connected net is generated with the assistance of the **dense()** function\n",
        "\n",
        "**Insert Image here>**"
      ],
      "metadata": {
        "id": "NE_AXW_TuufV"
      }
    },
    {
      "cell_type": "code",
      "source": [
        "def build_CPPN(pos_x, pos_y, x, y, r, hidden):\n",
        "    global network\n",
        "    num_points = pos_x * pos_y\n",
        "\n",
        "    hidden_mag = tf.reshape(hidden, [batch, 1, hsize]) * \\\n",
        "                     tf.ones([num_points, 1], dtype=np.float32) * scale\n",
        "\n",
        "    unroll_x = tf.reshape(x, [batch * num_points, 1])\n",
        "    unroll_y = tf.reshape(y, [batch * num_points, 1])\n",
        "    unroll_r = tf.reshape(r, [batch * num_points, 1])\n",
        "    unroll_h = tf.reshape(hidden_mag, [batch * num_points, hsize])\n",
        "\n",
        "    network = dense(unroll_h, net) + \\\n",
        "                   dense(unroll_x, net, with_bias=False) + \\\n",
        "                   dense(unroll_y, net, with_bias=False) + \\\n",
        "                   dense(unroll_r, net, with_bias=False)\n",
        "\n",
        "    \n",
        "    if act_func == 1:\n",
        "      out = tanh_sig()\n",
        "      print('Activation in network tanh_sigmoid')\n",
        "    elif act_func == 2:\n",
        "      out = sin_tanh_sof()\n",
        "      print('Activation in network sin_tanh_softmax')\n",
        "    elif act_func == 3:\n",
        "      out = tanh_sig_sin_sof()\n",
        "      print('Activation in network tanh_sigmoid_sin_softmax')\n",
        "    else:\n",
        "      print('Invalid entry, defaulting back to 1: tanh_sigmoid')\n",
        "      out = tanh_sig()\n",
        "    model = np.reshape(out, (batch, pos_x, pos_y, ch))\n",
        "    return model\n",
        "\n",
        "def dense(input, out_dim, with_bias=True):\n",
        "    mat = tf.random.normal(shape=(input.shape[1], out_dim))\n",
        "    result = tf.matmul(input, mat)\n",
        "\n",
        "    if with_bias == True:\n",
        "        bias = tf.random.normal(shape=(1, out_dim))\n",
        "        result += bias * tf.ones((input.shape[0], 1), dtype=tf.float32)\n",
        "\n",
        "    return result"
      ],
      "metadata": {
        "id": "ikMsdvSxClCH"
      },
      "execution_count": null,
      "outputs": []
    },
    {
      "cell_type": "markdown",
      "source": [
        "## The available activation functions.\n",
        "* tanh_sigmoid\n",
        "* sin_tanh_softmax\n",
        "* tanh_sig_sin_softmax"
      ],
      "metadata": {
        "id": "cUgrHbL3x4JB"
      }
    },
    {
      "cell_type": "code",
      "source": [
        "def tanh_sig(layers=3):\n",
        "    z = tf.math.tanh(network)\n",
        "    for i in range(layers):\n",
        "        z = tf.math.tanh(dense(z, net))\n",
        "    out = sigmoid(dense(z, ch))\n",
        "    return out\n",
        "\n",
        "def sin_tanh_sof():\n",
        "    z = tf.math.tanh(network)\n",
        "    z = 0.95 * tf.math.sin(dense(z, net))\n",
        "    z = tf.math.tanh(dense(z, net))\n",
        "    z = soft_plus(dense(z, net))\n",
        "    z = tf.math.tanh(dense(z, net))\n",
        "    out = soft_plus(dense(z, ch))\n",
        "    return out    \n",
        "\n",
        "def tanh_sig_sin_sof():\n",
        "    z = tf.math.tanh(network)\n",
        "    z = 0.8 * tf.math.sin(dense(z, net))\n",
        "    z = tf.math.tanh(dense(z, net))\n",
        "    z = soft_plus(dense(z, net))\n",
        "    out = sigmoid(dense(z, ch))\n",
        "    return out    \n",
        "\n",
        "def sigmoid(x):\n",
        "    sigmoid_x = 1.0 / (1 + tf.math.exp(-1 * x))\n",
        "    return sigmoid_x\n",
        "\n",
        "\n",
        "def soft_plus(x):\n",
        "    return tf.math.log(1.0 + tf.math.exp(x))"
      ],
      "metadata": {
        "id": "jcXZplO_RXav"
      },
      "execution_count": null,
      "outputs": []
    },
    {
      "cell_type": "markdown",
      "source": [
        "# Runnning the CPPN\n",
        "Once the CPPN is built, it is plotted with the help of the **matplotlib** library"
      ],
      "metadata": {
        "id": "Jn7UJ4Q62ZRt"
      }
    },
    {
      "cell_type": "code",
      "source": [
        "def run_CPPN(size, num_neurons, height, pos_x, pos_y, mag=10.0, RGB=True, seed=None, act_fun = 1):\n",
        "\n",
        "    if seed is not None:\n",
        "        tf.experimental.numpy.random.seed(0)\n",
        "\n",
        "    \n",
        "    CPPN_init(size, num_neurons, height, pos_x, pos_y, mag, RGB, seed, act_fun)\n",
        "\n",
        "    if RGB == True:\n",
        "        ch = 3\n",
        "    else:\n",
        "        ch = 1\n",
        "\n",
        "    z = tf.random.uniform(shape=(batch, hsize), minval=-1.0, maxval=1.0, dtype=tf.float32)\n",
        "    x, y, r = create_grid(pos_x, pos_y, mag)\n",
        "    pattern = build_CPPN(pos_x, pos_y, x, y, r, z)\n",
        "    plt.subplot(1, 1, 1)\n",
        "\n",
        "    if RGB == False:\n",
        "        plt.imshow(pattern.reshape(pos_y, pos_x), cmap='Greys', interpolation='nearest')\n",
        "    else:\n",
        "        plt.imshow(pattern.reshape(pos_y, pos_x, ch), interpolation='nearest')\n",
        "    plt.axis('off')\n",
        "\n",
        "    pattern = np.array(1 - pattern)\n",
        "\n",
        "    if ch > 1:\n",
        "        pattern = np.array(tf.reshape(pattern, [pos_y, pos_x, ch]) * 255.0, dtype=np.uint8)\n",
        "    else:\n",
        "        pattern = np.array(tf.reshape(pattern, [pos_y, pos_x]) * 255.0, dtype=np.uint8)\n",
        "\n",
        "    im = Image.fromarray(pattern)\n",
        "    im.save('CPPN.png')\n",
        "    plt.show()"
      ],
      "metadata": {
        "id": "hlWzdgbnRnIY"
      },
      "execution_count": null,
      "outputs": []
    },
    {
      "cell_type": "markdown",
      "source": [
        "# Example run command\n",
        "* Choose from act_fun = 1, 2 or 3 to switch between available activation functions.\n",
        "\n",
        "> * 1 = tanh_sigmoid\n",
        "> * 2 = sin_tanh_softmax\n",
        "> * 3 = tanh_sigmoid_sin_softmax\n",
        "\n",
        "* The output image will be saved as CPPN.png\n",
        "________________________________________________________________________________\n"
      ],
      "metadata": {
        "id": "f1OQfSJizRA4"
      }
    },
    {
      "cell_type": "code",
      "source": [
        "run_CPPN(size = 1, num_neurons = 32, height = 32, pos_x = 1024, pos_y= 1024, mag = 10.0, RGB = True, seed = None, act_fun = 1)"
      ],
      "metadata": {
        "colab": {
          "base_uri": "https://localhost:8080/",
          "height": 265
        },
        "id": "tLHZ2dX4RvDP",
        "outputId": "3450417e-d48a-4bc8-b6d7-cc2872137889"
      },
      "execution_count": null,
      "outputs": [
        {
          "output_type": "stream",
          "name": "stdout",
          "text": [
            "Activation in network tanh_sigmoid\n"
          ]
        },
        {
          "output_type": "display_data",
          "data": {
            "text/plain": [
              "<Figure size 432x288 with 1 Axes>"
            ],
            "image/png": "[encoded data removed]"
          },
          "metadata": {
            "needs_background": "light"
          }
        }
      ]
    }
  ]
}